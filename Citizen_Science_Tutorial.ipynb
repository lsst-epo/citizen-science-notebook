{
 "cells": [
  {
   "cell_type": "markdown",
   "id": "674967ca",
   "metadata": {},
   "source": [
    "# Citizen Science Notebook\n",
    "This notebook demonstrates the usage of the Butler to curate data and store it for later retrieval."
   ]
  },
  {
   "cell_type": "markdown",
   "id": "2450d25d",
   "metadata": {},
   "source": [
    "## Create a Zooniverse Account\n",
    "If you haven't already, [create a Zooniverse account here.](https://www.zooniverse.org/)\n",
    "After creating your account, return to this notebook."
   ]
  },
  {
   "cell_type": "markdown",
   "id": "10cb6f4f-ea5e-44b5-a066-319647eaa956",
   "metadata": {},
   "source": [
    "## Terminal Prep Work\n",
    "The follow cell will run the necessary terminal commands that make this notebook possible."
   ]
  },
  {
   "cell_type": "code",
   "execution_count": null,
   "id": "782a8949-8315-4f60-9302-7453baf53240",
   "metadata": {},
   "outputs": [],
   "source": [
    "# Install panoptes client package to dependencies\n",
    "!python -m pip install panoptes-client\n",
    "!mkdir -p project/citizen-science/astro-cutouts/\n",
    "!mkdir -p project/citizen-science/org\n",
    "\n",
    "from IPython.display import display\n",
    "\n",
    "!python -m pip install google-cloud-storage"
   ]
  },
  {
   "cell_type": "markdown",
   "id": "7b87346d",
   "metadata": {},
   "source": [
    "## Log in to Zooniverse\n",
    "Now that you have a Zooniverse account, log into the Zooniverse(Panoptes) client."
   ]
  },
  {
   "cell_type": "code",
   "execution_count": null,
   "id": "5a3d8310-d278-4785-998b-246e0ce181fc",
   "metadata": {},
   "outputs": [],
   "source": [
    "# Log into Zooniverse\n",
    "import panoptes_client\n",
    "client = panoptes_client.Panoptes.connect(login=\"interactive\")"
   ]
  },
  {
   "cell_type": "markdown",
   "id": "5428915e",
   "metadata": {},
   "source": [
    " ## Look Up Your Zooniverse Project\n",
    " The following code will not work if you have not authenticated in the cell titled \"Log in to Zooniverse\". </br>\n",
    " Supply the project name in the variable below.\n",
    " </br></br>\n",
    " Not that the `Project.find()` method expects the project name to reflect the \"slug\" of your project, if you don't know what a \"slug\" is in this context, see:</br>\n",
    " https://www.zooniverse.org/talk/18/967061?comment=1898157&page=1"
   ]
  },
  {
   "cell_type": "code",
   "execution_count": null,
   "id": "bbdeb1cb-14b7-4540-857a-d8c0be39435f",
   "metadata": {},
   "outputs": [],
   "source": [
    "from panoptes_client import Project, SubjectSet\n",
    "\n",
    "# Replace the empty string below with your project name\n",
    "slugName = \"\" # Add your slug name\n",
    "\n",
    "# project = panoptes_client.Project.find(slug=slugName)\n",
    "# project = panoptes_client.Project.find(18676)\n",
    "project = Project.find(18676)\n",
    "\n",
    "projectId = project.id\n",
    "\n",
    "# json_response, etag = client.post(path='/subject_set_imports', json=payload)\n",
    "# json_response = client.delete(path='/subject_sets/' + str(vendor_batch_id))\n",
    "\n",
    "\n",
    "# print(etag)\n",
    "# pp.pprint(ss)\n",
    "\n",
    "# print(type(\"eric\"))\n",
    "# print(type(1))\n",
    "\n",
    "print(projectId)\n",
    "\n",
    "print(project.display_name)\n",
    "\n",
    "for sub in project.links.subject_sets:\n",
    "    # print(sub.raw)\n",
    "    print(sub.completeness)\n",
    "    # for completeness_score in sub.completeness:\n",
    "    #     if sub.completeness[completeness_score] == 1.0:\n",
    "    #         print(\"complete\");\n",
    "    # if str(104376) == sub.id:\n",
    "    #     print(\"yes!\")\n",
    "\n",
    "# If the following prints out a number, then your project lookup was successful.\n",
    "# print(project.id)\n",
    "\n",
    "# subjectSet = panoptes_client.subject_set.subject_workflow_statuses()\n",
    "# print(subjectSet)"
   ]
  },
  {
   "cell_type": "markdown",
   "id": "0372378b",
   "metadata": {},
   "source": [
    "## Import Butler/LSST Stack dependencies\n",
    "Before you can curate data, you need to load all of the LSST stack dependencies in order to use the Butler service."
   ]
  },
  {
   "cell_type": "code",
   "execution_count": null,
   "id": "bae91287",
   "metadata": {},
   "outputs": [],
   "source": [
    "# Generic python packages\n",
    "import numpy as np\n",
    "import pylab as plt\n",
    " \n",
    "# Set a standard figure size to use\n",
    "plt.rcParams['figure.figsize'] = (8.0, 8.0)\n",
    " \n",
    "# LSST Science Pipelines (Stack) packages\n",
    "import lsst.daf.butler as dafButler\n",
    "import lsst.afw.display as afwDisplay\n",
    "import lsst.geom as geom\n",
    "import lsst.afw.coord as afwCoord\n",
    "afwDisplay.setDefaultBackend('matplotlib')"
   ]
  },
  {
   "cell_type": "markdown",
   "id": "7c5d47c5",
   "metadata": {},
   "source": [
    " ## Prep Work\n",
    " Variable constants declared"
   ]
  },
  {
   "cell_type": "code",
   "execution_count": null,
   "id": "7789cf9c",
   "metadata": {},
   "outputs": [],
   "source": [
    "# This should match the verified version listed at the start of the notebook\n",
    "! eups list -s lsst_distrib\n",
    " \n",
    "# DP0.1 repo:\n",
    "# Check with DM (RSP team) to see if the below the terms will make sense to the \n",
    "email = \"\" # Add your primary email\n",
    "datasetId = \"u/\" + email + \"/change-this2\" # Replace \"change-this\" with a unique name of your change, leave the leading slash '/'\n",
    "repo = 's3://butler-us-central1-dp01' # Keep track of this URI for later use with: butler retrieve-artifacts...\n",
    "collection = \"2.2i/runs/DP0.1\""
   ]
  },
  {
   "cell_type": "markdown",
   "id": "10b2ef84",
   "metadata": {},
   "source": [
    "## Initialize the Butler service\n",
    "Notice the run and collections pulled in from the prep work above"
   ]
  },
  {
   "cell_type": "code",
   "execution_count": null,
   "id": "0b99ef48",
   "metadata": {},
   "outputs": [],
   "source": [
    "# Initialize the Butler\n",
    "# the 'run' kwarg is an arbitrary name that must be unique, that is to say that once I use this name\n",
    "# the Butler will complain if I try to rerun this code with the same value for 'run'\n",
    "butler = dafButler.Butler(repo, collections=collection, run=datasetId)\n",
    "registry = butler.registry\n",
    "print(registry) # print just so we know something happened"
   ]
  },
  {
   "cell_type": "markdown",
   "id": "03aafca6",
   "metadata": {},
   "source": [
    "And list all available collections:"
   ]
  },
  {
   "cell_type": "code",
   "execution_count": null,
   "id": "5d103261",
   "metadata": {},
   "outputs": [],
   "source": [
    "# Another cell above this cell that can be uncommented that will show all the collections that can be queried\n",
    "for c in sorted(registry.queryCollections()):\n",
    "    print(c)"
   ]
  },
  {
   "cell_type": "markdown",
   "id": "47a2f5f2",
   "metadata": {},
   "source": [
    "## Query the Butler for data\n",
    "`butler.get()` queries the object store and database and return the results in the form of a Python object"
   ]
  },
  {
   "cell_type": "code",
   "execution_count": null,
   "id": "c07a220a",
   "metadata": {},
   "outputs": [],
   "source": [
    "# Specify the data to get\n",
    "dataId = {'visit': '703697', 'detector': 80} # Hardcoded for now\n",
    "calexp = butler.get('calexp', dataId=dataId) # Hardcoded for now\n",
    "print(calexp) # print just so we know something happened"
   ]
  },
  {
   "cell_type": "markdown",
   "id": "82dbb87f",
   "metadata": {},
   "source": [
    "## Store the dataset in the IDF\n",
    "`butler.put()` stores the Python object reference that contains the `butler.get()` query results in the IDF. It can then be retrieved with the Butler CLI."
   ]
  },
  {
   "cell_type": "code",
   "execution_count": null,
   "id": "c5c181aa",
   "metadata": {},
   "outputs": [],
   "source": [
    "zoonyTest = butler.put(calexp, 'calexp', dataId=dataId, run=datasetId) # Hardcoded 'calexp' for now\n",
    "print(zoonyTest)"
   ]
  },
  {
   "cell_type": "markdown",
   "id": "87b3885c-fef1-4fe2-a1d5-5110da3664f7",
   "metadata": {},
   "source": [
    "## Create Image Cutout from HiPS Server\n",
    "You can create a cutout image of a HiPS survey/server by doing the following:"
   ]
  },
  {
   "cell_type": "code",
   "execution_count": null,
   "id": "90813c05-0348-4622-91a8-c9b6d6a77eef",
   "metadata": {},
   "outputs": [],
   "source": [
    "# # Import the necessary astro/plot libraries - These are imported in the SDK cell below and only included here\n",
    "# # so you can work with the hips2fits library before deciding on which data to send to Zooniverse\n",
    "# from astroquery.hips2fits import hips2fits\n",
    "# from IPython.display import display\n",
    "# import matplotlib.pyplot as plt\n",
    "# from matplotlib.colors import Colormap\n",
    "# import astropy.units as u\n",
    "# from astropy.coordinates import Longitude, Latitude, Angle\n",
    "\n",
    "# # Import organizational libraries\n",
    "# import time\n",
    "# import uuid\n",
    "# import os\n",
    "# import shutil\n",
    "\n",
    "# Reference the EDC HiPS Survey\n",
    "# hips = 'https://storage.googleapis.com/hips-data/images'\n",
    "\n",
    "# astroquery.hips2fits library documentation: https://astroquery.readthedocs.io/en/latest/hips2fits/hips2fits.html\n",
    "# Configure the query and execute it\n",
    "result = hips2fits.query(\n",
    "   hips=hips,\n",
    "   width=1000,\n",
    "   height=500,\n",
    "   ra=Longitude(0 * u.deg),\n",
    "   dec=Latitude(20 * u.deg),\n",
    "   fov=Angle(15 * u.deg),\n",
    "   projection=\"AIT\",\n",
    "   get_query_payload=False,\n",
    "   format='jpg',\n",
    "   min_cut=0.5,\n",
    "   max_cut=99.5,\n",
    "   cmap=Colormap('viridis'),\n",
    ")\n",
    "\n",
    "# Create the plot\n",
    "im = plt.imshow(result)\n",
    "# Show the plot\n",
    "plt.show()\n",
    "\n",
    "# Add the cutout to the cutouts collection:\n",
    "cutouts = []\n",
    "cutouts.append(im)"
   ]
  },
  {
   "cell_type": "markdown",
   "id": "5082536e-5cc6-4261-8bce-721e5bc0afe9",
   "metadata": {},
   "source": [
    "## Create a new subject set\n",
    "Run this before running the \"Send Data\" cell."
   ]
  },
  {
   "cell_type": "code",
   "execution_count": null,
   "id": "4da01086-90e6-4429-8e7c-86ebba3de4ed",
   "metadata": {},
   "outputs": [],
   "source": [
    "subject_set_name = \"\" # give your subject set a name\n",
    "subject_set_name"
   ]
  },
  {
   "cell_type": "markdown",
   "id": "c6278df4-3b25-40dc-838b-2566f7a88599",
   "metadata": {},
   "source": [
    "## Send the cutouts to Zooniverse\n",
    "Don't click the below cell multiple times, the upload will fail if multiple runs are attempted."
   ]
  },
  {
   "cell_type": "code",
   "execution_count": null,
   "id": "5363b380-6397-409e-b52a-391ec0832ba6",
   "metadata": {},
   "outputs": [],
   "source": [
    "pp = pprint.PrettyPrinter(indent=2)\n",
    "h = display(display_id='my-display')\n",
    "h.display(None)\n",
    "\n",
    "__cit_sci_data_type = _HIPS_CUTOUTS # Important: DO NOT change this value\n",
    "send_data(subject_set_name, cutouts)"
   ]
  },
  {
   "cell_type": "markdown",
   "id": "c24f823b-e07b-4b12-808e-1a5c0b1c7f26",
   "metadata": {},
   "source": [
    "## Show additional messages\n",
    "Run the below cell for additional information regarding the data batch upload."
   ]
  },
  {
   "cell_type": "code",
   "execution_count": null,
   "id": "6f87847d-e47b-4237-a099-370244ff6ee9",
   "metadata": {},
   "outputs": [],
   "source": [
    "print(edc_response[\"messages\"])"
   ]
  },
  {
   "cell_type": "markdown",
   "id": "8bcfd009-fea5-4a09-b83f-f65431819b29",
   "metadata": {},
   "source": [
    "## IMPORTANT! Run the below cell to activate the Rubin Citizen Science SDK"
   ]
  },
  {
   "cell_type": "code",
   "execution_count": null,
   "id": "e2af40d1-e6cf-4cd4-9197-e189ffbd274f",
   "metadata": {},
   "outputs": [],
   "source": [
    "# HiPS astrocutout libraries\n",
    "from astroquery.hips2fits import hips2fits\n",
    "from IPython.display import display\n",
    "import matplotlib.pyplot as plt\n",
    "from matplotlib.colors import Colormap\n",
    "import astropy.units as u\n",
    "from astropy.coordinates import Longitude, Latitude, Angle\n",
    "\n",
    "# Zooniverse libraries\n",
    "# from panoptes_client import Panoptes, Project, SubjectSet\n",
    "\n",
    "# GCP libraries\n",
    "from google.cloud import storage\n",
    "\n",
    "# Import organizational libraries\n",
    "import time\n",
    "import uuid\n",
    "import os\n",
    "import shutil\n",
    "import pprint\n",
    "import pdb\n",
    "import json\n",
    "import urllib.request\n",
    "\n",
    "# Prep work\n",
    "email = \"erosas@lsst.org\" # To-do: Refactor this out to a separate editable cell to add email\n",
    "hips = 'https://storage.googleapis.com/hips-data/images'\n",
    "pp = pprint.PrettyPrinter(indent=2)\n",
    "working_message = \"Status updating...\"\n",
    "vendor_batch_id = 0\n",
    "_HIPS_CUTOUTS = \"hips_cutouts\"\n",
    "project_id = project.id\n",
    "guid = \"\"\n",
    "cutouts_dir = \"\"\n",
    "progress_message = \"\"\n",
    "manifest_url = \"\"\n",
    "edc_response = \"\"\n",
    "\n",
    "def clean_up_unused_subject_set():\n",
    "    global client\n",
    "    global vendor_batch_id\n",
    "    h.update(\"Cleaning up unused subject set on the Zooniverse platform, vendor_batch_id : \" + str(vendor_batch_id))\n",
    "    \n",
    "    ss, etag = client.get(path=\"/subject_sets/\" + str(vendor_batch_id))\n",
    "    \n",
    "    json_response = client.delete(path='/subject_sets/' + str(vendor_batch_id), headers={\"If-Match\":etag})\n",
    "    \n",
    "    return\n",
    "\n",
    "def send_zooniverse_manifest():\n",
    "    # import json\n",
    "    global vendor_batch_id\n",
    "    global manifest_url\n",
    "    global client\n",
    "    # subject_set.id\n",
    "    # h.update(\"Sending project manifest to Zoonverse...\")\n",
    "    h.update(\"subject_set.id: \" + str(vendor_batch_id) + \"; manifest: \" + manifest_url);\n",
    "\n",
    "    payload = {\"subject_set_imports\": {\"source_url\": manifest_url, \"links\": {\"subject_set\": str(vendor_batch_id)}}}\n",
    "\n",
    "    json_response, etag = client.post(path='/subject_set_imports', json=payload)\n",
    "    return\n",
    "\n",
    "def create_new_subject_set(name):\n",
    "    h.update(\"Creating a new Zooniverse subject set\")\n",
    "    # Create a new subject set\n",
    "    global project\n",
    "    global panoptes_client\n",
    "    global vendor_batch_id\n",
    "    h.update(project.id)\n",
    "    subject_set = panoptes_client.SubjectSet()\n",
    "    subject_set.links.project = project\n",
    "\n",
    "    # Give the subject set a display name (that will only be visible to you on the Zooniverse platform)\n",
    "    subject_set.display_name = name \n",
    "\n",
    "    subject_set.save()\n",
    "    project.reload()\n",
    "    vendor_batch_id = subject_set.id\n",
    "    return vendor_batch_id\n",
    "\n",
    "# Validates that the RSP user is allowed to create a new subject set\n",
    "def send_data(subject_set_name, cutouts = None):\n",
    "    h.update(\"Checking batch status\")\n",
    "    global manifest_url\n",
    "    global edc_response\n",
    "    if has_active_batch() == True:\n",
    "        h.update(\"Active batch exists!!! Continuing because this notebook is in debug mode\")\n",
    "        # raise CitizenScienceError(\"You cannot send another batch of data while a subject set is still active on the Zooniverse platform - you can only send a new batch of data if all subject sets associated to a project have been completed.\")\n",
    "    if __cit_sci_data_type == _HIPS_CUTOUTS:\n",
    "        zip_path = zip_hips_cutouts()\n",
    "        upload_hips_cutouts(zip_path)\n",
    "        subject_set_id = create_new_subject_set(subject_set_name)\n",
    "        edc_response = json.loads(alert_edc_of_new_citsci_data(subject_set_id))\n",
    "\n",
    "    else:\n",
    "        send_butler_data_to_edc()\n",
    "        subject_set_id = create_new_subject_set(subject_set_name)\n",
    "        manifest_url = send_butler_data_to_edc()\n",
    "    \n",
    "    if edc_response[\"status\"] == \"success\":\n",
    "        manifest_url = edc_response[\"manifest_url\"]\n",
    "        if len(edc_response[\"messages\"]) > 0:\n",
    "            h.update(edc_response[\"messages\"])\n",
    "        else:\n",
    "            h.update(manifest_url)\n",
    "    else:\n",
    "        clean_up_unused_subject_set()\n",
    "        # raise CitizenScienceError(edc_response[\"messages\"])\n",
    "        h.update(edc_response)\n",
    "        return\n",
    "\n",
    "    send_zooniverse_manifest()\n",
    "    h.update(\"Transfer process complete, but further processing is required on the Zooniverse platform and you will receive an email at \" + email)\n",
    "    return\n",
    "\n",
    "def zip_hips_cutouts():\n",
    "    h.update(\"Zipping up all the astro cutouts - this can take a few minutes with large data sets, but unlikely more than 10 minutes.\")\n",
    "    global guid\n",
    "    guid = str(uuid.uuid4())\n",
    "    cutouts_dir = \"./project/citizen-science/astro-cutouts/\"\n",
    "    data_dir = cutouts_dir + guid\n",
    "    os.mkdir(data_dir);\n",
    "    \n",
    "    # beginning of temporary testing code\n",
    "    for x in range(10005): # create 100 cutouts from the one cutout image\n",
    "        plt.imsave(data_dir + \"/cutout-\" + str(round(time.time() * 1000)) + \"-\" + str(x) + \".png\", result)\n",
    "\n",
    "    shutil.make_archive(cutouts_dir + guid, 'zip', data_dir)\n",
    "    # end of temporary testing code\n",
    "    return [cutouts_dir + guid + '.zip', guid + '.zip']\n",
    "\n",
    "def upload_hips_cutouts(zip_path):\n",
    "    h.update(\"Uploading the citizen science data\")\n",
    "    bucket_name = \"citizen-science-data\"\n",
    "    service_account_key = \"skyviewer-398f28c943e8.json\" # replace this with the GCP key provided to you\n",
    "    destination_blob_name = zip_path[1]\n",
    "    source_file_name = zip_path[0]\n",
    "\n",
    "    storage_client = storage.Client.from_service_account_json(\n",
    "        './project/citizen-science/org/' + service_account_key)\n",
    "    bucket = storage_client.bucket(bucket_name)\n",
    "    blob = bucket.blob(destination_blob_name)\n",
    "\n",
    "    blob.upload_from_filename(source_file_name)\n",
    "    return\n",
    "\n",
    "def alert_edc_of_new_citsci_data(vendor_batch_id):\n",
    "    project_id_str = str(project_id)\n",
    "    h.update(\"Notifying the Rubin EPO Data Center of the new data, which will finish processing of the data and notify Zooniverse\")\n",
    "    # h.update(\"Vendor batch ID : \" + str(vendor_batch_id))\n",
    "    global guid\n",
    "    \n",
    "    try:\n",
    "        edc_endpoint = \"https://rsp-data-exporter-e3g4rcii3q-uc.a.run.app/citizen-science-bucket-ingest?email=\" + email + \"&vendor_project_id=\" + project_id_str + \"&guid=\" + guid + \"&vendor_batch_id=\" + str(vendor_batch_id)\n",
    "        response = urllib.request.urlopen(edc_endpoint).read()\n",
    "        manifestUrl = response.decode('UTF-8')\n",
    "        return manifestUrl\n",
    "    except Exception as e:\n",
    "        clean_up_unused_subject_set()\n",
    "        h.update(e)\n",
    "        return\n",
    "\n",
    "\n",
    "def send_butler_data_to_edc():\n",
    "    h.update(\"Notifying the Rubin EPO Data Center of the new data, which will finish processing of the data and notify Zooniverse\")\n",
    "    edcEndpoint = \"https://rsp-data-exporter-e3g4rcii3q-uc.a.run.app/citizen-science-butler-ingest?email=\" + email + \"&collection=\" + datasetId + \"&sourceId=\" + sourceId + \"&vendorProjectId=\" + str(projectId) + \"&vendor_batch_id=\" + str(vendor_batch_id)\n",
    "    print('Processing data for Zooniverse, this may take up to a few minutes.')\n",
    "    response = urllib.request.urlopen(edcEndpoint).read()\n",
    "    manifestUrl = response.decode('UTF-8')\n",
    "    return\n",
    "\n",
    "def has_active_batch():\n",
    "    active_batch = False\n",
    "    for subject_set in project.links.subject_sets:\n",
    "        for completeness_percent in list(subject_set.completeness.values()):\n",
    "            if completeness_percent == 1.0:\n",
    "                active_batch = True\n",
    "                break\n",
    "        if active_batch:\n",
    "            break\n",
    "    return active_batch\n",
    "\n",
    "# Custom error handling for this notebook\n",
    "class CitizenScienceError(Exception):\n",
    "   \n",
    "    # Constructor or Initializer\n",
    "    def __init__(self, value):\n",
    "        self.value = value\n",
    "   \n",
    "    # __str__ is to print() the value\n",
    "    def __str__(self):\n",
    "        return(repr(self.value))\n",
    "    \n",
    "print(\"Loaded Citizen Science SDK\")"
   ]
  },
  {
   "cell_type": "code",
   "execution_count": null,
   "id": "e679df45-1991-459f-9d73-8adecc1aeafd",
   "metadata": {},
   "outputs": [],
   "source": []
  },
  {
   "cell_type": "code",
   "execution_count": null,
   "id": "ec6ca7a4-71d7-42a7-b95d-32f832336aba",
   "metadata": {},
   "outputs": [],
   "source": []
  }
 ],
 "metadata": {
  "kernelspec": {
   "display_name": "LSST",
   "language": "python",
   "name": "lsst"
  },
  "language_info": {
   "codemirror_mode": {
    "name": "ipython",
    "version": 3
   },
   "file_extension": ".py",
   "mimetype": "text/x-python",
   "name": "python",
   "nbconvert_exporter": "python",
   "pygments_lexer": "ipython3",
   "version": "3.8.8"
  }
 },
 "nbformat": 4,
 "nbformat_minor": 5
}
