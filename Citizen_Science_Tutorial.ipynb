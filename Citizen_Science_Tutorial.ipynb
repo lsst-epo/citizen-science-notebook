{
 "cells": [
  {
   "cell_type": "markdown",
   "id": "2a664387",
   "metadata": {},
   "source": [
    "# Citizen Science Notebook\n",
    "This notebook demonstrates the usage of the Butler to curate data and store it for later retrieval."
   ]
  },
  {
   "cell_type": "markdown",
   "id": "3c2b560d",
   "metadata": {},
   "source": [
    "## Create a Zooniverse Account\n",
    "If you haven't already, [create a Zooniverse account here.](https://www.zooniverse.org/)\n",
    "After creating your account, return to this notebook."
   ]
  },
  {
   "cell_type": "code",
   "execution_count": null,
   "id": "ba5e3b04",
   "metadata": {},
   "outputs": [],
   "source": [
    "# Install panoptes client package to dependencies\n",
    "!python -m pip install panoptes-client"
   ]
  },
  {
   "cell_type": "markdown",
   "id": "d8842461",
   "metadata": {},
   "source": [
    "## Log in to Zooniverse\n",
    "Now that you have a Zooniverse account, log into the Zooniverse(Panoptes) client."
   ]
  },
  {
   "cell_type": "code",
   "execution_count": null,
   "id": "feadf504",
   "metadata": {},
   "outputs": [],
   "source": [
    "# Log into Zooniverse\n",
    "import panoptes_client\n",
    "client = panoptes_client.Panoptes.connect(login=\"interactive\")"
   ]
  },
  {
   "cell_type": "markdown",
   "id": "dbed3a95",
   "metadata": {},
   "source": [
    "## Import Butler/LSST Stack dependencies\n",
    "Before you can curate data, you need to load all of the LSST stack dependencies in order to use the Butler service."
   ]
  },
  {
   "cell_type": "code",
   "execution_count": null,
   "id": "eaafffc2",
   "metadata": {},
   "outputs": [],
   "source": [
    "# Generic python packages\n",
    "import numpy as np\n",
    "import pylab as plt\n",
    " \n",
    "# Set a standard figure size to use\n",
    "plt.rcParams['figure.figsize'] = (8.0, 8.0)\n",
    " \n",
    "# LSST Science Pipelines (Stack) packages\n",
    "import lsst.daf.butler as dafButler\n",
    "import lsst.afw.display as afwDisplay\n",
    "import lsst.geom as geom\n",
    "import lsst.afw.coord as afwCoord\n",
    "afwDisplay.setDefaultBackend('matplotlib')"
   ]
  },
  {
   "cell_type": "markdown",
   "id": "5a4d014a",
   "metadata": {},
   "source": [
    " ## Prep Work\n",
    " Variable constants declared"
   ]
  },
  {
   "cell_type": "code",
   "execution_count": null,
   "id": "7e1ba7a9",
   "metadata": {},
   "outputs": [],
   "source": [
    "# Another cell above this cell that can be uncommented that will show all the collections that can be queried\n",
    "for c in sorted(registry.queryCollections()):\n",
    "    print(c)"
   ]
  },
  {
   "cell_type": "code",
   "execution_count": null,
   "id": "9813c32f",
   "metadata": {},
   "outputs": [],
   "source": [
    "# This should match the verified version listed at the start of the notebook\n",
    "! eups list -s lsst_distrib\n",
    " \n",
    "# DP0.1 repo:\n",
    "# Check with DM (RSP team) to see if the below the terms will make sense to the \n",
    "email = \"\" # Add your primary email\n",
    "datasetId = \"u/\" + email + \"/change-this\" # Replace \"change-this\" with a unique name of your change, leave the leading slash '/'\n",
    "repo = '' # Keep track of this URI for later use with: butler retrieve-artifacts...\n",
    "collection = \"\""
   ]
  },
  {
   "cell_type": "markdown",
   "id": "c5e13f17",
   "metadata": {},
   "source": [
    "## Initialize the Butler service\n",
    "Notice the run and collections pulled in from the prep work above"
   ]
  },
  {
   "cell_type": "code",
   "execution_count": null,
   "id": "5cad60bc",
   "metadata": {},
   "outputs": [],
   "source": [
    "# Initialize the Butler\n",
    "# the 'run' kwarg is an arbitrary name that must be unique, that is to say that once I use this name\n",
    "# the Butler will complain if I try to rerun this code with the same value for 'run'\n",
    "butler = dafButler.Butler(repo, collections=collection, run=datasetId)\n",
    "registry = butler.registry\n",
    "print(registry) # print just so we know something happened"
   ]
  },
  {
   "cell_type": "markdown",
   "id": "b12a9e21",
   "metadata": {},
   "source": [
    "## Query the Butler for data\n",
    "`butler.get()` queries the object store and database and return the results in the form of a Python object"
   ]
  },
  {
   "cell_type": "code",
   "execution_count": null,
   "id": "a5b72296",
   "metadata": {},
   "outputs": [],
   "source": [
    "# Specify the data to get\n",
    "dataId = {'visit': '703697', 'detector': 80} # Hardcoded for now\n",
    "calexp = butler.get('calexp', dataId=dataId)# Hardcoded for now\n",
    "print(calexp) # print just so we know something happened"
   ]
  },
  {
   "cell_type": "markdown",
   "id": "73b280f7",
   "metadata": {},
   "source": [
    "## Store the dataset in the IDF\n",
    "`butler.put()` stores the Python object reference that contains the `butler.get()` query results in the IDF. It can then be retrieved with the Butler CLI."
   ]
  },
  {
   "cell_type": "code",
   "execution_count": null,
   "id": "b37912cd",
   "metadata": {},
   "outputs": [],
   "source": [
    "# First, delete the dataset if it already exists in the IDF\n",
    "# runs = (\"\")\n",
    "# runsIter = iter(runs)\n",
    "# print(datasetId)\n",
    "# deleted = butler.removeRuns([datasetId], True)\n",
    "# print(deleted)\n",
    "\n",
    "# Do butler.put() to store the retrieved data with a \"run\" to identify the stored dataset\n",
    "print(datasetId)\n",
    "zoonyTest = butler.put(calexp, 'calexp', dataId=dataId, run=datasetId) # Hardcoded 'calexp' for now\n",
    "# from pprint import pprint\n",
    "print(zoonyTest)\n"
   ]
  },
  {
   "cell_type": "markdown",
   "id": "8343a754",
   "metadata": {},
   "source": [
    "## Prep the Data for Zooniverse\n",
    "Technically, the data will be stored in a Rubin datacenter, but this process will also inform Zooniverse of the new data for your project."
   ]
  },
  {
   "cell_type": "code",
   "execution_count": null,
   "id": "c39777ae",
   "metadata": {},
   "outputs": [],
   "source": [
    "import urllib.request\n",
    "sourceId = \"\" # Add \n",
    "edcEndpoint = \"https://rsp-data-exporter-e3g4rcii3q-uc.a.run.app?email=\" + email + \"&collection=\" + datasetId + \"&sourceId=\" + sourceId # RSP user will expect to just see a function call, not the details\n",
    "response = urllib.request.urlopen(edcEndpoint).read()\n",
    "manifestUrl = response.decode('UTF-8')\n",
    "print(manifestUrl)"
   ]
  },
  {
   "cell_type": "markdown",
   "id": "37a958a3",
   "metadata": {},
   "source": [
    " ## Look Up Your Zooniverse Project\n",
    " The following code will not work if you have not authenticated in the cell titled \"Log in to Zooniverse\". </br>\n",
    " Supply the project name in the variable below.\n",
    " </br></br>\n",
    " Not that the `Project.find()` method expects the project name to reflect the \"slug\" of your project, if you don't know what a \"slug\" is in this context, see:</br>\n",
    " https://www.zooniverse.org/talk/18/967061?comment=1898157&page=1"
   ]
  },
  {
   "cell_type": "code",
   "execution_count": null,
   "id": "1ccf7fa2",
   "metadata": {},
   "outputs": [],
   "source": [
    "# Replace the empty string below with your project name\n",
    "slugName = \"\" # Add your slug name\n",
    "\n",
    "project = panoptes_client.Project.find(slug=slugName)\n",
    "\n",
    "# If the following prints out a number, then your project lookup was successful.\n",
    "print(project.id)"
   ]
  },
  {
   "cell_type": "markdown",
   "id": "e3225450",
   "metadata": {},
   "source": [
    "## Create a New Subject Set for Your Data\n",
    "Zooniverse refers to each distinct batch of data that is associated to a project as a \"subject set\". This really just means to you what you're sending over is \"data\", but Zooniverse refers to it as a \"subject set\". It's also a useful way to keep track of each distinct batch of data as you can give each batch a distinct name."
   ]
  },
  {
   "cell_type": "code",
   "execution_count": null,
   "id": "83d54d59",
   "metadata": {},
   "outputs": [],
   "source": [
    "# Create a new subject set\n",
    "subject_set = panoptes_client.SubjectSet()\n",
    "subject_set.links.project = project\n",
    "\n",
    "# Give the subject set a display name (that will only be visible to you on the Zooniverse platform)\n",
    "subject_set.display_name = ''\n",
    "\n",
    "subject_set.save()\n",
    "project.reload()"
   ]
  },
  {
   "cell_type": "markdown",
   "id": "115af705",
   "metadata": {},
   "source": [
    "## Associate the Subject Set With Your Data\n",
    "This step informs Zooniverse that there is a new subject set(data) available for it to pickup and associate with your project."
   ]
  },
  {
   "cell_type": "code",
   "execution_count": null,
   "id": "9a2e2e66",
   "metadata": {},
   "outputs": [],
   "source": [
    "import json\n",
    "payload = {\"subject_set_imports\": {\"source_url\": f\"{manifestUrl}\", \"links\": {\"subject_set\": subject_set.id}}}\n",
    "\n",
    "json.dumps(payload)"
   ]
  },
  {
   "cell_type": "markdown",
   "id": "5dacfc52",
   "metadata": {},
   "source": [
    "## Notify Zooniverse of the New Subject Set\n",
    "Finally, we send a request out to the Zooniverse API to inform them that new data is available and which subject set to associate it with."
   ]
  },
  {
   "cell_type": "code",
   "execution_count": null,
   "id": "29c09cf9",
   "metadata": {},
   "outputs": [],
   "source": [
    "json_response, etag = client.post(path='/subject_set_imports', json=payload)\n",
    "print(json_response)"
   ]
  },
  {
   "cell_type": "code",
   "execution_count": null,
   "id": "4c88ddab",
   "metadata": {},
   "outputs": [],
   "source": []
  }
 ],
 "metadata": {
  "kernelspec": {
   "display_name": "LSST",
   "language": "python",
   "name": "lsst"
  },
  "language_info": {
   "codemirror_mode": {
    "name": "ipython",
    "version": 3
   },
   "file_extension": ".py",
   "mimetype": "text/x-python",
   "name": "python",
   "nbconvert_exporter": "python",
   "pygments_lexer": "ipython3",
   "version": "3.8.8"
  }
 },
 "nbformat": 4,
 "nbformat_minor": 5
}
