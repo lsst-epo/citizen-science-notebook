{
 "cells": [
  {
   "cell_type": "markdown",
   "id": "674967ca",
   "metadata": {},
   "source": [
    "# Citizen Science Notebook\n",
    "This notebook demonstrates the usage of the Butler to curate data and store it for later retrieval."
   ]
  },
  {
   "cell_type": "markdown",
   "id": "2450d25d",
   "metadata": {},
   "source": [
    "## Create a Zooniverse Account\n",
    "If you haven't already, [create a Zooniverse account here.](https://www.zooniverse.org/)\n",
    "After creating your account, return to this notebook."
   ]
  },
  {
   "cell_type": "markdown",
   "id": "10cb6f4f-ea5e-44b5-a066-319647eaa956",
   "metadata": {},
   "source": [
    "## Terminal Prep Work\n",
    "The follow cell will run the necessary terminal commands that make this notebook possible."
   ]
  },
  {
   "cell_type": "code",
   "execution_count": null,
   "id": "67772aa8-758c-46df-b43f-099eaf4af8b7",
   "metadata": {},
   "outputs": [],
   "source": [
    "# Install panoptes client package to dependencies\n",
    "!python -m pip install panoptes-client\n",
    "!mkdir -p project/citizen-science/astro-cutouts/\n",
    "!mkdir -p project/citizen-science/org"
   ]
  },
  {
   "cell_type": "code",
   "execution_count": null,
   "id": "2e0e99a9-a681-4922-9043-a66484e07e96",
   "metadata": {},
   "outputs": [],
   "source": []
  },
  {
   "cell_type": "code",
   "execution_count": null,
   "id": "94a95b62-1398-4cc6-9823-809f59cca8ad",
   "metadata": {},
   "outputs": [],
   "source": [
    "!python -m pip install google-cloud-storage"
   ]
  },
  {
   "cell_type": "markdown",
   "id": "7b87346d",
   "metadata": {},
   "source": [
    "## Log in to Zooniverse\n",
    "Now that you have a Zooniverse account, log into the Zooniverse(Panoptes) client."
   ]
  },
  {
   "cell_type": "code",
   "execution_count": null,
   "id": "3292468a",
   "metadata": {},
   "outputs": [],
   "source": [
    "# Log into Zooniverse\n",
    "import panoptes_client\n",
    "client = panoptes_client.Panoptes.connect(login=\"interactive\")"
   ]
  },
  {
   "cell_type": "markdown",
   "id": "5428915e",
   "metadata": {},
   "source": [
    " ## Look Up Your Zooniverse Project\n",
    " The following code will not work if you have not authenticated in the cell titled \"Log in to Zooniverse\". </br>\n",
    " Supply the project name in the variable below.\n",
    " </br></br>\n",
    " Not that the `Project.find()` method expects the project name to reflect the \"slug\" of your project, if you don't know what a \"slug\" is in this context, see:</br>\n",
    " https://www.zooniverse.org/talk/18/967061?comment=1898157&page=1"
   ]
  },
  {
   "cell_type": "code",
   "execution_count": null,
   "id": "310bd102",
   "metadata": {},
   "outputs": [],
   "source": [
    "# Replace the empty string below with your project name\n",
    "slugName = \"doctor-toboggan/wizard-wesearch\" # Add your slug name\n",
    "\n",
    "project = panoptes_client.Project.find(slug=slugName)\n",
    "projectId = project.id\n",
    "\n",
    "# If the following prints out a number, then your project lookup was successful.\n",
    "print(project.id)"
   ]
  },
  {
   "cell_type": "markdown",
   "id": "0372378b",
   "metadata": {},
   "source": [
    "## Import Butler/LSST Stack dependencies\n",
    "Before you can curate data, you need to load all of the LSST stack dependencies in order to use the Butler service."
   ]
  },
  {
   "cell_type": "code",
   "execution_count": null,
   "id": "bae91287",
   "metadata": {},
   "outputs": [],
   "source": [
    "# Generic python packages\n",
    "import numpy as np\n",
    "import pylab as plt\n",
    " \n",
    "# Set a standard figure size to use\n",
    "plt.rcParams['figure.figsize'] = (8.0, 8.0)\n",
    " \n",
    "# LSST Science Pipelines (Stack) packages\n",
    "import lsst.daf.butler as dafButler\n",
    "import lsst.afw.display as afwDisplay\n",
    "import lsst.geom as geom\n",
    "import lsst.afw.coord as afwCoord\n",
    "afwDisplay.setDefaultBackend('matplotlib')"
   ]
  },
  {
   "cell_type": "markdown",
   "id": "7c5d47c5",
   "metadata": {},
   "source": [
    " ## Prep Work\n",
    " Variable constants declared"
   ]
  },
  {
   "cell_type": "code",
   "execution_count": null,
   "id": "7789cf9c",
   "metadata": {},
   "outputs": [],
   "source": [
    "# This should match the verified version listed at the start of the notebook\n",
    "! eups list -s lsst_distrib\n",
    " \n",
    "# DP0.1 repo:\n",
    "# Check with DM (RSP team) to see if the below the terms will make sense to the \n",
    "email = \"\" # Add your primary email\n",
    "datasetId = \"u/\" + email + \"/change-this2\" # Replace \"change-this\" with a unique name of your change, leave the leading slash '/'\n",
    "repo = 's3://butler-us-central1-dp01' # Keep track of this URI for later use with: butler retrieve-artifacts...\n",
    "collection = \"2.2i/runs/DP0.1\""
   ]
  },
  {
   "cell_type": "markdown",
   "id": "10b2ef84",
   "metadata": {},
   "source": [
    "## Initialize the Butler service\n",
    "Notice the run and collections pulled in from the prep work above"
   ]
  },
  {
   "cell_type": "code",
   "execution_count": null,
   "id": "0b99ef48",
   "metadata": {},
   "outputs": [],
   "source": [
    "# Initialize the Butler\n",
    "# the 'run' kwarg is an arbitrary name that must be unique, that is to say that once I use this name\n",
    "# the Butler will complain if I try to rerun this code with the same value for 'run'\n",
    "butler = dafButler.Butler(repo, collections=collection, run=datasetId)\n",
    "registry = butler.registry\n",
    "print(registry) # print just so we know something happened"
   ]
  },
  {
   "cell_type": "markdown",
   "id": "03aafca6",
   "metadata": {},
   "source": [
    "And list all available collections:"
   ]
  },
  {
   "cell_type": "code",
   "execution_count": null,
   "id": "5d103261",
   "metadata": {},
   "outputs": [],
   "source": [
    "# Another cell above this cell that can be uncommented that will show all the collections that can be queried\n",
    "for c in sorted(registry.queryCollections()):\n",
    "    print(c)"
   ]
  },
  {
   "cell_type": "markdown",
   "id": "47a2f5f2",
   "metadata": {},
   "source": [
    "## Query the Butler for data\n",
    "`butler.get()` queries the object store and database and return the results in the form of a Python object"
   ]
  },
  {
   "cell_type": "code",
   "execution_count": null,
   "id": "c07a220a",
   "metadata": {},
   "outputs": [],
   "source": [
    "# Specify the data to get\n",
    "dataId = {'visit': '703697', 'detector': 80} # Hardcoded for now\n",
    "calexp = butler.get('calexp', dataId=dataId)# Hardcoded for now\n",
    "print(calexp) # print just so we know something happened"
   ]
  },
  {
   "cell_type": "markdown",
   "id": "82dbb87f",
   "metadata": {},
   "source": [
    "## Store the dataset in the IDF\n",
    "`butler.put()` stores the Python object reference that contains the `butler.get()` query results in the IDF. It can then be retrieved with the Butler CLI."
   ]
  },
  {
   "cell_type": "code",
   "execution_count": null,
   "id": "c5c181aa",
   "metadata": {},
   "outputs": [],
   "source": [
    "# First, delete the dataset if it already exists in the IDF\n",
    "# runs = (\"\")\n",
    "# runsIter = iter(runs)\n",
    "# print(datasetId)\n",
    "# deleted = butler.removeRuns([datasetId], True)\n",
    "# print(deleted)\n",
    "\n",
    "# Do butler.put() to store the retrieved data with a \"run\" to identify the stored dataset\n",
    "print(datasetId)\n",
    "zoonyTest = butler.put(calexp, 'calexp', dataId=dataId, run=datasetId) # Hardcoded 'calexp' for now\n",
    "# from pprint import pprint\n",
    "print(zoonyTest)\n"
   ]
  },
  {
   "cell_type": "markdown",
   "id": "0d463371",
   "metadata": {},
   "source": [
    "## Prep the Data for Zooniverse\n",
    "Technically, the data will be stored in a Rubin datacenter, but this process will also inform Zooniverse of the new data for your project."
   ]
  },
  {
   "cell_type": "code",
   "execution_count": null,
   "id": "b934a4a8",
   "metadata": {},
   "outputs": [],
   "source": [
    "import urllib.request\n",
    "sourceId = \"\" # Add \n",
    "edcEndpoint = \"https://rsp-data-exporter-e3g4rcii3q-uc.a.run.app/citizen-science-ingest?email=\" + email + \"&collection=\" + datasetId + \"&sourceId=\" + sourceId + \"&vendorProjectId=\" + projectId # RSP user will expect to just see a function call, not the details\n",
    "print('Processing data for Zooniverse, this may take up to a few minutes.')\n",
    "response = urllib.request.urlopen(edcEndpoint).read()\n",
    "manifestUrl = response.decode('UTF-8')\n",
    "print(manifestUrl)"
   ]
  },
  {
   "cell_type": "markdown",
   "id": "1926e4e2",
   "metadata": {},
   "source": [
    "## Create a New Subject Set for Your Data\n",
    "Zooniverse refers to each distinct batch of data that is associated to a project as a \"subject set\". This really just means to you what you're sending over is \"data\", but Zooniverse refers to it as a \"subject set\". It's also a useful way to keep track of each distinct batch of data as you can give each batch a distinct name."
   ]
  },
  {
   "cell_type": "code",
   "execution_count": null,
   "id": "b4ea8e04",
   "metadata": {},
   "outputs": [],
   "source": [
    "# Create a new subject set\n",
    "subject_set = panoptes_client.SubjectSet()\n",
    "subject_set.links.project = project\n",
    "\n",
    "# Give the subject set a display name (that will only be visible to you on the Zooniverse platform)\n",
    "subject_set.display_name = 'Large cutouts' # create a unique name for your subject set, which is how you will identify it \n",
    "\n",
    "subject_set.save()\n",
    "project.reload()\n",
    "subject_set"
   ]
  },
  {
   "cell_type": "markdown",
   "id": "f54493aa",
   "metadata": {},
   "source": [
    "## Associate the Subject Set With Your Data\n",
    "This step informs Zooniverse that there is a new subject set(data) available for it to pickup and associate with your project."
   ]
  },
  {
   "cell_type": "code",
   "execution_count": null,
   "id": "6b710606",
   "metadata": {},
   "outputs": [],
   "source": [
    "import json\n",
    "subject_set.id\n",
    "payload = {\"subject_set_imports\": {\"source_url\": \"https://storage.googleapis.com/citizen-science-data/4770983a-9fdb-4500-8715-0fc678cfdce9/manifest.csv\", \"links\": {\"subject_set\": subject_set.id}}}\n",
    "\n",
    "json.dumps(payload)\n",
    "payload"
   ]
  },
  {
   "cell_type": "markdown",
   "id": "c03e7d92",
   "metadata": {},
   "source": [
    "## Notify Zooniverse of the New Subject Set\n",
    "Finally, we send a request out to the Zooniverse API to inform them that new data is available and which subject set to associate it with."
   ]
  },
  {
   "cell_type": "code",
   "execution_count": null,
   "id": "87fe9369",
   "metadata": {},
   "outputs": [],
   "source": [
    "json_response, etag = client.post(path='/subject_set_imports', json=payload)\n",
    "print(json_response)\n",
    "json_response"
   ]
  },
  {
   "cell_type": "markdown",
   "id": "46b90c42-e63e-451b-a79c-e37709883b97",
   "metadata": {},
   "source": [
    "## Check the Status of Your Data\n",
    "The below cell will query the Zooniverse API to check the status of the subject set that you just notifed Zooniverse of."
   ]
  },
  {
   "cell_type": "code",
   "execution_count": null,
   "id": "1d8bddf0",
   "metadata": {},
   "outputs": [],
   "source": [
    "status = client.get(path='/subject_sets/{}'.format(subject_set.id))\n",
    "print(\"============\")\n",
    "client.endpoint\n",
    "print(\"============\")\n",
    "status"
   ]
  },
  {
   "cell_type": "code",
   "execution_count": null,
   "id": "81dba68f",
   "metadata": {},
   "outputs": [],
   "source": []
  },
  {
   "cell_type": "markdown",
   "id": "87b3885c-fef1-4fe2-a1d5-5110da3664f7",
   "metadata": {},
   "source": [
    "## Create Image Cutout from HiPS Server\n",
    "You can create a cutout image of a HiPS survey/server by doing the following:"
   ]
  },
  {
   "cell_type": "code",
   "execution_count": null,
   "id": "8d29def8-a7b0-4c09-bdcb-54cb4ec63b86",
   "metadata": {},
   "outputs": [],
   "source": [
    "# Import the necessary astro/plot libraries\n",
    "from astroquery.hips2fits import hips2fits\n",
    "import matplotlib.pyplot as plt\n",
    "from matplotlib.colors import Colormap\n",
    "import astropy.units as u\n",
    "from astropy.coordinates import Longitude, Latitude, Angle\n",
    "\n",
    "# Import organizational libraries\n",
    "import time\n",
    "import uuid\n",
    "import os\n",
    "import shutil\n",
    "\n",
    "# Reference the EDC HiPS Survey\n",
    "hips = 'https://storage.googleapis.com/hips-data/images'\n",
    "\n",
    "# Configure the query and execute it\n",
    "result = hips2fits.query(\n",
    "   hips=hips,\n",
    "   width=1000,\n",
    "   height=500,\n",
    "   ra=Longitude(0 * u.deg),\n",
    "   dec=Latitude(20 * u.deg),\n",
    "   fov=Angle(10 * u.deg),\n",
    "   projection=\"AIT\",\n",
    "   get_query_payload=False,\n",
    "   format='jpg',\n",
    "   min_cut=0.5,\n",
    "   max_cut=99.5,\n",
    "   cmap=Colormap('viridis'),\n",
    ")\n",
    "\n",
    "# Create the plot\n",
    "im = plt.imshow(result)\n",
    "guid = str(uuid.uuid4())\n",
    "cutoutsDir = \"./project/citizen-science/astro-cutouts/\"\n",
    "dataDir = cutoutsDir + guid\n",
    "os.mkdir(dataDir);\n",
    "# plt.imsave(\"./project/citizen-science/astro-cutouts/\" + guid + \"/cutout-\" + str(round(time.time() * 1000)) + \"-\" + str(1) + \".png\", result) # commented out for testing purposes\n",
    "\n",
    "# beginning of temporary testing code\n",
    "for x in range(100): # create 100 cutouts from the one cutout image\n",
    "    plt.imsave(dataDir + \"/cutout-\" + str(round(time.time() * 1000)) + \"-\" + str(x) + \".png\", result)\n",
    "\n",
    "shutil.make_archive(cutoutsDir + guid, 'zip', dataDir)\n",
    "# end of temporary testing code\n",
    "\n",
    "# Show the plot\n",
    "plt.show() "
   ]
  },
  {
   "cell_type": "markdown",
   "id": "74a70887-0428-4712-83b3-caa2f28939b0",
   "metadata": {},
   "source": [
    "## Now Upload the Zipped Cutouts to Zooniverse"
   ]
  },
  {
   "cell_type": "markdown",
   "id": "3d9f326e-53fb-42cb-b461-4552f706a365",
   "metadata": {},
   "source": [
    "You will need a service account key in your RSP `/home/project/citizen-science/org` folder for the next cell to work as expected. Ensure that you change the name of the `service_account_key` to the name of the JSON key file."
   ]
  },
  {
   "cell_type": "code",
   "execution_count": null,
   "id": "a9102e04-51aa-44f5-8129-2f1169790ded",
   "metadata": {},
   "outputs": [],
   "source": [
    "from google.cloud import storage\n",
    "\n",
    "bucket_name = \"citizen-science-data\"\n",
    "service_account_key = \"skyviewer-398f28c943e8.json\" # replace this with the GCP key provided to you\n",
    "destination_blob_name = guid + \".zip\"\n",
    "source_file_name = cutoutsDir + guid + \".zip\"\n",
    "\n",
    "storage_client = storage.Client.from_service_account_json(\n",
    "    './project/citizen-science/org/' + service_account_key)\n",
    "bucket = storage_client.bucket(bucket_name)\n",
    "blob = bucket.blob(destination_blob_name)\n",
    "\n",
    "blob.upload_from_filename(source_file_name)\n",
    "\n",
    "print(\n",
    "    \"File {} uploaded to {}.\".format(\n",
    "        source_file_name, destination_blob_name\n",
    "    )\n",
    ")"
   ]
  },
  {
   "cell_type": "markdown",
   "id": "bca326c3-caee-4e0b-9cfc-ea431c60794c",
   "metadata": {},
   "source": [
    "## Notify the EDC of the New Citizen Science Cutout Data\n",
    "\n",
    "Add your email address if you already haven't, and the `projectId` here inserted as a query param in the edcEndpoint is assigned in above in this notebook upon signing into the Zooniverse API."
   ]
  },
  {
   "cell_type": "code",
   "execution_count": null,
   "id": "38a39c25-8e98-4ce6-8e75-f0f76d3dce50",
   "metadata": {},
   "outputs": [],
   "source": [
    "import urllib.request\n",
    "email = \"\" # Add email\n",
    "# vendor_project_id = \"\"\n",
    "edcEndpoint = \"https://rsp-data-exporter-e3g4rcii3q-uc.a.run.app/new-bucket-ingest?email=\" + email + \"&vendor_project_id=\" + projectId + \"&guid=\" + guid\n",
    "print('Processing data for Zooniverse, this may take up to a few minutes.')\n",
    "response = urllib.request.urlopen(edcEndpoint).read()\n",
    "manifestUrl = response.decode('UTF-8')\n",
    "print(manifestUrl)"
   ]
  },
  {
   "cell_type": "code",
   "execution_count": null,
   "id": "c033ed36-8518-4e9a-807c-c47b55320a2b",
   "metadata": {},
   "outputs": [],
   "source": []
  },
  {
   "cell_type": "code",
   "execution_count": null,
   "id": "1dd0d2fb-e6ba-4efc-ae6c-8887fef45f98",
   "metadata": {},
   "outputs": [],
   "source": []
  }
 ],
 "metadata": {
  "kernelspec": {
   "display_name": "LSST",
   "language": "python",
   "name": "lsst"
  },
  "language_info": {
   "codemirror_mode": {
    "name": "ipython",
    "version": 3
   },
   "file_extension": ".py",
   "mimetype": "text/x-python",
   "name": "python",
   "nbconvert_exporter": "python",
   "pygments_lexer": "ipython3",
   "version": "3.8.8"
  }
 },
 "nbformat": 4,
 "nbformat_minor": 5
}
